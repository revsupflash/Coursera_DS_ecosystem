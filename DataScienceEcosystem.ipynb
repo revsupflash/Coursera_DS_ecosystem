{
 "cells": [
  {
   "cell_type": "markdown",
   "id": "81f7be12-2e3a-4bf7-9917-d7baf32c373a",
   "metadata": {},
   "source": [
    "# Data Science Tools and Ecosystem\n"
   ]
  },
  {
   "cell_type": "markdown",
   "id": "c4a24165-2870-4595-91b3-829d3c4d3e44",
   "metadata": {},
   "source": [
    "In this notebook, Data Science Tools and Ecosystem are summarized."
   ]
  },
  {
   "cell_type": "markdown",
   "id": "96b64d3f-c619-4cad-8a71-4b09672305b0",
   "metadata": {},
   "source": [
    "**Objectives:**\n",
    "\n",
    "- listing popular DS languages \n",
    "- libraries used in DS\n",
    "- Tools\n",
    "- Arithmetic operations \n",
    "- Minutes to hours "
   ]
  },
  {
   "cell_type": "markdown",
   "id": "e693db57-32cb-4b4a-b389-f206e739a39d",
   "metadata": {},
   "source": [
    "Some of the popular languages that Data Scientists use are: \n",
    "1. Python\n",
    "2. SQL\n",
    "3. R\n",
    "4. Julia\n",
    "   "
   ]
  },
  {
   "cell_type": "markdown",
   "id": "f44235c3-e4f4-419c-b7c9-a818ad82a2cb",
   "metadata": {},
   "source": [
    "Some of the commonly used libraries used by Data Scientists include:\n",
    "1. numpy\n",
    "2. Pandas\n",
    "3. Matplotlib\n"
   ]
  },
  {
   "cell_type": "markdown",
   "id": "6b0e970a-f2ca-4214-8f75-2c9d66bd33c9",
   "metadata": {},
   "source": [
    "| Data Science Tools       |\n",
    "|--------------------------|\n",
    "| Jupyter Notebooks        |\n",
    "| RStudio                  |\n",
    "| VSCode with Python       |\n"
   ]
  },
  {
   "cell_type": "markdown",
   "id": "0ae95320-bc89-4e62-9a7f-6cde6deb509b",
   "metadata": {},
   "source": [
    "### Below are a few examples of evaluating arithmetic expressions in Python.\n",
    "1. Addition:\n",
    "   \n"
   ]
  },
  {
   "cell_type": "code",
   "execution_count": 5,
   "id": "2d28e025-c482-4167-9eda-1f37905e4583",
   "metadata": {
    "tags": []
   },
   "outputs": [
    {
     "name": "stdout",
     "output_type": "stream",
     "text": [
      "The sum of 5 and 7 is: 12\n"
     ]
    }
   ],
   "source": [
    "number1 = 5\n",
    "number2 = 7\n",
    "sum_result = number1 + number2\n",
    "\n",
    "print(\"The sum of\", number1, \"and\", number2, \"is:\", sum_result)\n"
   ]
  },
  {
   "cell_type": "code",
   "execution_count": 6,
   "id": "6e217d67-771d-411f-be3c-336abc9158a3",
   "metadata": {
    "tags": []
   },
   "outputs": [
    {
     "name": "stdout",
     "output_type": "stream",
     "text": [
      "The diff of 5 and 7 is: -2\n"
     ]
    }
   ],
   "source": [
    "number1 = 5\n",
    "number2 = 7\n",
    "diff_result = number1 - number2\n",
    "\n",
    "print(\"The diff of\", number1, \"and\", number2, \"is:\", diff_result)"
   ]
  },
  {
   "cell_type": "code",
   "execution_count": 7,
   "id": "7b2efe13-a7f1-45b1-a4bf-d8a7250ff094",
   "metadata": {
    "tags": []
   },
   "outputs": [
    {
     "name": "stdout",
     "output_type": "stream",
     "text": [
      "The result of (3 * 4) + 5 is: 17\n"
     ]
    }
   ],
   "source": [
    "# This is a simple arithmetic expression to multiply then add integers.\n",
    "number1 = 3\n",
    "number2 = 4\n",
    "number3 = 5\n",
    "\n",
    "result = (number1 * number2) + number3\n",
    "\n",
    "print(\"The result of (3 * 4) + 5 is:\", result)\n"
   ]
  },
  {
   "cell_type": "code",
   "execution_count": 8,
   "id": "dc7a9334-e0b8-45c8-b716-b964fcd8439d",
   "metadata": {
    "tags": []
   },
   "outputs": [
    {
     "name": "stdout",
     "output_type": "stream",
     "text": [
      "200 minutes is equal to 3.3333333333333335 hours.\n"
     ]
    }
   ],
   "source": [
    "# This will convert 200 minutes to hours by dividing by 60.\n",
    "minutes = 200\n",
    "\n",
    "hours = minutes / 60\n",
    "\n",
    "print(\"200 minutes is equal to\", hours, \"hours.\")\n"
   ]
  },
  {
   "cell_type": "markdown",
   "id": "b3af06a1-7243-40b2-903b-cec6fb96933a",
   "metadata": {},
   "source": [
    "## Author\n",
    "\n",
    "Vyom Chopra "
   ]
  },
  {
   "cell_type": "code",
   "execution_count": null,
   "id": "5aeeb37d-d8ae-4bcc-ab05-7093c3a43741",
   "metadata": {},
   "outputs": [],
   "source": []
  }
 ],
 "metadata": {
  "kernelspec": {
   "display_name": "Python 3 (ipykernel)",
   "language": "python",
   "name": "python3"
  },
  "language_info": {
   "codemirror_mode": {
    "name": "ipython",
    "version": 3
   },
   "file_extension": ".py",
   "mimetype": "text/x-python",
   "name": "python",
   "nbconvert_exporter": "python",
   "pygments_lexer": "ipython3",
   "version": "3.11.5"
  }
 },
 "nbformat": 4,
 "nbformat_minor": 5
}
